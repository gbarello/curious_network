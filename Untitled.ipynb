{
 "cells": [
  {
   "cell_type": "code",
   "execution_count": 2,
   "metadata": {},
   "outputs": [],
   "source": [
    "import network.make_recurrent_state as recstate\n",
    "import tensorflow as tf\n",
    "from my_modules.MINE import MINE_net as MINE"
   ]
  },
  {
   "cell_type": "code",
   "execution_count": 3,
   "metadata": {},
   "outputs": [],
   "source": [
    "nb = 8\n",
    "view_size = 12\n",
    "time = 5\n",
    "rec_size = 128\n",
    "number_of_actions = 5\n",
    "encoder_layers = [64,128]\n",
    "ff_layers = [128]\n",
    "rec_layers = [128]\n",
    "ext_layers = [128]\n",
    "extin_layers = [128]\n",
    "recnl = tf.nn.relu\n",
    "\n",
    "input_size = [nb,time,view_size,view_size]\n",
    "init_state = tf.placeholder(tf.float32,[nb,rec_size])\n",
    "\n",
    "image_input = tf.placeholder(tf.float32,input_size)\n",
    "enc_input = tf.reshape(image_input,[nb,time,-1])\n",
    "ff_state_input = tf.reshape(image_input,[nb*time,-1])\n",
    "\n",
    "encoding = recstate.make_encoder(ff_state_input,encoder_layers,\"encoder\",nonlin = tf.nn.sigmoid)\n",
    "encoding = tf.reshape(encoding,[nb,time,-1])\n",
    "\n",
    "network_values = recstate.make_recurrent_state(encoding,init_state,number_of_actions,ff_layers,rec_layers,ext_layers,extin_layers,recnl)\n"
   ]
  },
  {
   "cell_type": "code",
   "execution_count": 7,
   "metadata": {},
   "outputs": [],
   "source": [
    "pred_layers = [128,128]\n",
    "\n",
    "pred_input = tf.stop_gradient(network_values[\"rec_state\"])\n",
    "pred_input = tf.reshape(pred_input,[nb*time,-1])\n",
    "prediction = recstate.make_encoder(pred_input,pred_layers + [rec_size],\"prediction\",nonlin = tf.nn.sigmoid)\n",
    "prediction = tf.reshape(prediction,[nb,time,-1])\n"
   ]
  },
  {
   "cell_type": "code",
   "execution_count": 9,
   "metadata": {},
   "outputs": [],
   "source": [
    "mine_loss = MINE.get_MINE(network_values[\"rec_state\"][:,:-1],encoding[:,1:],flatten_time_axis = True)"
   ]
  },
  {
   "cell_type": "code",
   "execution_count": 10,
   "metadata": {},
   "outputs": [],
   "source": [
    "pred_loss = tf.reduce_mean(tf.pow(prediction[:,:-1] - encoding[:,1:],2))"
   ]
  },
  {
   "cell_type": "code",
   "execution_count": null,
   "metadata": {},
   "outputs": [],
   "source": []
  }
 ],
 "metadata": {
  "kernelspec": {
   "display_name": "Python 3",
   "language": "python",
   "name": "python3"
  },
  "language_info": {
   "codemirror_mode": {
    "name": "ipython",
    "version": 3
   },
   "file_extension": ".py",
   "mimetype": "text/x-python",
   "name": "python",
   "nbconvert_exporter": "python",
   "pygments_lexer": "ipython3",
   "version": "3.5.4"
  }
 },
 "nbformat": 4,
 "nbformat_minor": 2
}
