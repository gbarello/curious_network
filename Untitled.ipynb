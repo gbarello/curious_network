{
 "cells": [
  {
   "cell_type": "code",
   "execution_count": 1,
   "metadata": {},
   "outputs": [],
   "source": [
    "import network.make_recurrent_state as recstate\n",
    "import tensorflow as tf\n",
    "from my_modules.MINE import MINE_net as MINE\n",
    "import matplotlib.pyplot as plt\n",
    "import numpy as np\n",
    "\n",
    "np.random.seed(0)\n",
    "tf.set_random_seed(0)\n",
    "\n",
    "import os\n",
    "os.environ[\"CUDA_VISIBLE_DEVICES\"]=\"1\""
   ]
  },
  {
   "cell_type": "code",
   "execution_count": 2,
   "metadata": {},
   "outputs": [
    {
     "data": {
      "text/plain": [
       "'\\nTo do this I need to :\\n\\n1.) first run the network through the whole sequence without learning (one step at a time so that we can execute actions)\\n2.) feed the image and action data back through the whole thing and perform a gradient descent step.\\n\\nTo do this we need two implementations: \\n - tensors which represent a single time step\\n - tensors which represent multiple steps\\n\\n'"
      ]
     },
     "execution_count": 2,
     "metadata": {},
     "output_type": "execute_result"
    }
   ],
   "source": [
    "tf.reset_default_graph()\n",
    "\n",
    "\n",
    "\n",
    "nb = 8\n",
    "view_size = 12\n",
    "time = 50\n",
    "\n",
    "rec_size = 128\n",
    "number_of_actions = 9\n",
    "enc_layers = [64,128]\n",
    "ff_layers = [128]\n",
    "rec_layers = [128]\n",
    "action_layers = [128]\n",
    "ain_layers = [128]\n",
    "pred_layers = [128,128]\n",
    "\n",
    "'''\n",
    "To do this I need to :\n",
    "\n",
    "1.) first run the network through the whole sequence without learning (one step at a time so that we can execute actions)\n",
    "2.) feed the image and action data back through the whole thing and perform a gradient descent step.\n",
    "\n",
    "To do this we need two implementations: \n",
    " - tensors which represent a single time step\n",
    " - tensors which represent multiple steps\n",
    "\n",
    "'''"
   ]
  },
  {
   "cell_type": "code",
   "execution_count": 3,
   "metadata": {},
   "outputs": [],
   "source": [
    "rec_init_state = tf.placeholder(tf.float32,[nb,rec_size])\n",
    "\n",
    "im_in = tf.placeholder(tf.float32,[nb,time,view_size,view_size])\n",
    "act_in = tf.placeholder(tf.float32,[nb,time,number_of_actions])\n",
    "disc_rew = tf.placeholder(tf.float32,[nb,time])\n",
    "\n",
    "single_im_in = tf.placeholder(tf.float32,[nb,1,view_size,view_size])\n",
    "single_act_in = tf.placeholder(tf.float32,[nb,1,number_of_actions])\n",
    "\n",
    "single_network = recstate.make_recurrent_state(single_im_in,rec_init_state,single_act_in,enc_layers,ff_layers,rec_layers,action_layers,ain_layers,pred_layers)\n",
    "\n",
    "full_network = recstate.make_recurrent_state(im_in,rec_init_state,act_in,enc_layers,ff_layers,rec_layers,action_layers,ain_layers,pred_layers)\n"
   ]
  },
  {
   "cell_type": "code",
   "execution_count": 4,
   "metadata": {},
   "outputs": [],
   "source": [
    "mine_loss,_ = MINE.get_MINE(full_network[\"rec_state\"][:,:-1],full_network[\"encoding\"][:,1:],flatten_time_axis = True)\n",
    "pred_loss = tf.reduce_mean(tf.pow(full_network[\"prediction\"][:,:-1] - tf.stop_gradient(full_network[\"encoding\"][:,1:]),2))\n",
    "\n",
    "perr = pred_loss / tf.reduce_mean(tf.pow(full_network[\"encoding\"][:,1:] - full_network[\"encoding\"][:,:-1],2))\n",
    "\n",
    "rate_push = 1./(tf.reduce_mean(tf.pow(full_network[\"rec_state\"],2)) + .001)\n",
    "rate_reg = tf.reduce_mean(tf.pow(full_network[\"rec_state\"],2))\n",
    "\n",
    "rate_loss = rate_push + rate_reg\n",
    "\n",
    "neg_log_prob = tf.nn.softmax_cross_entropy_with_logits_v2(logits = full_network[\"actions\"], labels = act_in)\n",
    "action_loss = tf.reduce_mean(neg_log_prob * tf.stop_gradient(pred_loss))"
   ]
  },
  {
   "cell_type": "code",
   "execution_count": 5,
   "metadata": {},
   "outputs": [
    {
     "name": "stdout",
     "output_type": "stream",
     "text": [
      "[[ 0.59546922  0.64212494  0.56906052  0.53535767  0.52583215  0.6280095\n",
      "   0.61012489  0.78266257  0.67355214  0.38344152]\n",
      " [ 0.66715234  0.54257964  0.55626436  0.54448416  0.16337167  0.25570729\n",
      "   0.42428527  0.82835215  0.82408445  0.87001215]]\n"
     ]
    }
   ],
   "source": [
    "\n",
    "def get_discounted_reward(reward,gamma):\n",
    "    dreward = np.zeros_like(reward)\n",
    "    cumulative = reward[:,-1]\n",
    "    dreward[:,-1] = cumulative\n",
    "    \n",
    "    for k in reversed(range(reward.shape[1]-1)):\n",
    "        cumulative = gamma * cumulative + (1. - gamma)*reward[:,k]\n",
    "        dreward[:,k] = cumulative\n",
    "        \n",
    "    return dreward\n",
    "\n",
    "print(get_discounted_reward(np.random.uniform(0,1,[2,10]),.5))\n"
   ]
  },
  {
   "cell_type": "code",
   "execution_count": 6,
   "metadata": {},
   "outputs": [],
   "source": [
    "adam = tf.train.AdamOptimizer()\n",
    "full_loss = - action_loss - mine_loss + pred_loss + rate_loss\n",
    "#MINE_loss = - mine_loss + pred_loss + 5*rate_loss\n",
    "MINE_loss = - mine_loss + 0*pred_loss + 5*rate_loss\n",
    "\n",
    "train = adam.minimize(full_loss)\n",
    "MINE_train = adam.minimize(MINE_loss)\n"
   ]
  },
  {
   "cell_type": "code",
   "execution_count": 7,
   "metadata": {},
   "outputs": [
    {
     "data": {
      "image/png": "[encoded data removed]",
      "text/plain": [
       "<matplotlib.figure.Figure at 0x7f02155552b0>"
      ]
     },
     "metadata": {},
     "output_type": "display_data"
    },
    {
     "name": "stdout",
     "output_type": "stream",
     "text": [
      "0.1738\n"
     ]
    }
   ],
   "source": [
    "import my_modules.cellular_automata.CA as CA\n",
    "\n",
    "class CA_env:\n",
    "    def __init__(self,esize,p,rule,linit,view_size,trans = 100):\n",
    "        self.env = CA.CA2D(esize,p = p,rule = rule)\n",
    "        self.env.rand_init()\n",
    "        self.view_size = view_size\n",
    "        \n",
    "        for t in range(trans):\n",
    "            self.env.update()\n",
    "        \n",
    "        self.loc = linit\n",
    "        \n",
    "    def move(self,act):\n",
    "        lt = self.loc + np.array(act)\n",
    "        lt = np.array([np.clip(lt[0],0,self.env.state.shape[0] - self.view_size),np.clip(lt[1],0,self.env.state.shape[1] - self.view_size)])\n",
    "        self.loc = lt\n",
    "        \n",
    "    def get_view(self,nv = 0,actions = np.array([0,0])):\n",
    "        if len(actions.shape) == 1:\n",
    "            actions = np.array([actions for a in range(nv)])\n",
    "        \n",
    "        if nv <= 0:\n",
    "            view = self.env.state[self.loc[0]:self.loc[0]+self.view_size,self.loc[1]:self.loc[1]+self.view_size]\n",
    "        else:\n",
    "            view = []\n",
    "            for k in range(nv):\n",
    "                self.env.update()\n",
    "                self.move(actions[k])\n",
    "                view.append(self.env.state[self.loc[0]:self.loc[0]+self.view_size,self.loc[1]:self.loc[1]+self.view_size])\n",
    "                \n",
    "        return view\n",
    "    def state(self):\n",
    "        return self.env.state\n",
    "    \n",
    "envsize = [100,200]\n",
    "GOL_rule = [[0,0,0,1,0,0,0,0,0],[0,0,1,1,0,0,0,0,0]]\n",
    "p = np.array([np.logspace(-5,0,200)])\n",
    "#p = .001\n",
    "envs = [CA_env(envsize,p,GOL_rule,np.int32(np.array(envsize)/2) - int(view_size/2),view_size) for k in range(nb)]\n",
    "\n",
    "st = np.float32(envs[0].state())\n",
    "ll = envs[0].loc\n",
    "st[int(ll[0]):int(ll[0] + view_size),int(ll[1]):int(ll[1]+view_size)] += 2\n",
    "\n",
    "plt.matshow(st)\n",
    "plt.show()\n",
    "\n",
    "print(envs[0].state().mean())"
   ]
  },
  {
   "cell_type": "code",
   "execution_count": 8,
   "metadata": {},
   "outputs": [],
   "source": [
    "rec_start_state = np.zeros([nb,rec_size])\n",
    "init_action = np.array([[[1 if i == 0 else 0 for i in range(number_of_actions)]] for n in range(nb)])\n",
    "\n",
    "aupd = np.array([[a,b] for a in range(-1,2) for b in range(-1,2)])\n",
    "\n",
    "single_return = [single_network[\"rec_state\"],single_network[\"encoding\"],single_network[\"actions\"],single_network[\"prediction\"]]\n",
    "full_return = [full_network[\"rec_state\"],full_network[\"encoding\"],full_network[\"actions\"],full_network[\"prediction\"]]\n",
    "\n",
    "init = tf.global_variables_initializer()\n",
    "sess = tf.Session()\n",
    "sess.run(init)"
   ]
  },
  {
   "cell_type": "code",
   "execution_count": null,
   "metadata": {},
   "outputs": [
    {
     "data": {
      "text/plain": [
       "'\\nlocs = [[] for k in range(nb)]\\nmeanml = 0\\nmeanpl = 0\\nn = 0\\nfor epc in range(100):\\n    act = np.random.randint(-1,2,[nb,time,2])\\n    img = np.array([envs[k].get_view(time,act[k]) for k in range(len(envs))])\\n    \\n    action_rep = np.array([[[1 if np.all(j == m) else 0 for m in aupd] for j in k] for k in act])\\n\\n    ml,per,rec_state,_= sess.run([mine_loss,perr,full_return[0][:,-1],MINE_train],{im_in:img,act_in: action_rep,rec_init_state:rec_start_state})\\n    \\n    meanml += ml\\n    meanpl += per\\n    \\n    n += 1\\n    \\n    rec_start_state = rec_state\\n    if epc % 10 == 0:\\n        print(\"{}\\t{}\".format(meanml/n,meanpl/n))\\n        meanml = 0\\n        meanpl = 0\\n        n = 0\\n'"
      ]
     },
     "execution_count": 9,
     "metadata": {},
     "output_type": "execute_result"
    }
   ],
   "source": [
    "\n",
    "'''\n",
    "locs = [[] for k in range(nb)]\n",
    "meanml = 0\n",
    "meanpl = 0\n",
    "n = 0\n",
    "for epc in range(100):\n",
    "    act = np.random.randint(-1,2,[nb,time,2])\n",
    "    img = np.array([envs[k].get_view(time,act[k]) for k in range(len(envs))])\n",
    "    \n",
    "    action_rep = np.array([[[1 if np.all(j == m) else 0 for m in aupd] for j in k] for k in act])\n",
    "\n",
    "    ml,per,rec_state,_= sess.run([mine_loss,perr,full_return[0][:,-1],MINE_train],{im_in:img,act_in: action_rep,rec_init_state:rec_start_state})\n",
    "    \n",
    "    meanml += ml\n",
    "    meanpl += per\n",
    "    \n",
    "    n += 1\n",
    "    \n",
    "    rec_start_state = rec_state\n",
    "    if epc % 10 == 0:\n",
    "        print(\"{}\\t{}\".format(meanml/n,meanpl/n))\n",
    "        meanml = 0\n",
    "        meanpl = 0\n",
    "        n = 0\n",
    "'''\n"
   ]
  },
  {
   "cell_type": "code",
   "execution_count": null,
   "metadata": {},
   "outputs": [
    {
     "name": "stdout",
     "output_type": "stream",
     "text": [
      "173.402587890625\t-2.8967857360839844e-05\t1.323383092880249\n",
      "0.22113587361574172\t1.8220210213065147\t1.5586804075539111\n",
      "0.11975944304466248\t1.9030020413398743\t0.8787480551302433\n",
      "0.04941743010282516\t1.9778724827617407\t0.89710968542099\n",
      "0.029159879863262177\t2.0219825569540264\t1.0572717885673046\n",
      "-0.09487245559692382\t2.1035312152951957\t1.9230375499725343\n",
      "-0.6585917513370514\t2.6405255250930786\t1.5144749150574208\n",
      "18.060136430561542\t2.7165418713092806\t25.35014326071739\n",
      "-1.6576281905174255\t3.3606390216350555\t4.712044586062431\n"
     ]
    }
   ],
   "source": [
    "locs = [[] for k in range(nb)]\n",
    "mllist = []\n",
    "pllist = []\n",
    "meanml = 0\n",
    "meanpl = 0\n",
    "meanll = 0\n",
    "n = 0\n",
    "for epc in range(20000):\n",
    "    \n",
    "    rec_state = []\n",
    "    enc_state = []\n",
    "    act_state = [init_action[:,-1]]\n",
    "    pre_state = []\n",
    "    img_state = []\n",
    "    \n",
    "    running_rec_state = rec_start_state\n",
    "    \n",
    "    #I need to feed in the images, initial activity, and previous actions, and get action/prediction outputs\n",
    "    for k in range(time):\n",
    "        images = np.array([[envs[i].get_view()] for i in range(nb)])\n",
    "\n",
    "        r,e,a,p = sess.run(single_return,{rec_init_state:running_rec_state,single_im_in:images,single_act_in:init_action})\n",
    "        running_rec_state = r[:,-1]\n",
    "        rec_state.append(r[:,0])\n",
    "        enc_state.append(e[:,0])\n",
    "        act_state.append(a[:,0])\n",
    "        pre_state.append(p[:,0])\n",
    "        img_state.append(images[:,-1])\n",
    "        init_action = a\n",
    "        \n",
    "        #update locations\n",
    "        \n",
    "        for l in range(nb):\n",
    "            adist = a[l][-1]\n",
    "            \n",
    "            choice = np.random.choice(range(number_of_actions), p = adist)\n",
    "            envs[l].move(aupd[choice])\n",
    "            locs[l].append(envs[l].loc)\n",
    "\n",
    "    rec_state = np.array(rec_state).transpose([1,0,2])\n",
    "    enc_state = np.array(enc_state).transpose([1,0,2])\n",
    "    act_state = np.array(act_state).transpose([1,0,2])\n",
    "    pre_state = np.array(pre_state).transpose([1,0,2])\n",
    "    img_state = np.array(img_state).transpose([1,0,2,3])\n",
    "    \n",
    "    r2,e2,a2,p2 = sess.run(full_return,{im_in:img_state,act_in: act_state[:,:-1],rec_init_state:rec_start_state})\n",
    "    \n",
    "    loss,ML,PL,_ = sess.run([full_loss,mine_loss,perr,train],{im_in:img_state,act_in: act_state[:,:-1],rec_init_state:rec_start_state})\n",
    "    \n",
    "    mllist.append(ML)\n",
    "    pllist.append(PL)\n",
    "    \n",
    "    meanml += ML\n",
    "    meanpl += PL\n",
    "    meanll += loss\n",
    "    \n",
    "    n += 1\n",
    "    \n",
    "    rec_start_state = rec_state[:,-1]\n",
    "    init_action = act_state[:,[-1]]\n",
    "    if epc % 2000 == 0:\n",
    "        print(\"{}\\t{}\\t{}\".format(meanll/n,meanml/n,meanpl/n))\n",
    "        meanml = 0\n",
    "        meanpl = 0\n",
    "        meanll = 0\n",
    "        n = 0\n",
    "        "
   ]
  },
  {
   "cell_type": "code",
   "execution_count": null,
   "metadata": {},
   "outputs": [],
   "source": [
    "LL = np.array([l for l in locs])\n",
    "\n",
    "for l in LL:\n",
    "    plt.plot(l[:,1])\n",
    "plt.xlim([0,len(LL[0])])\n",
    "plt.ylim([0,200])\n",
    "plt.show()"
   ]
  },
  {
   "cell_type": "code",
   "execution_count": null,
   "metadata": {},
   "outputs": [],
   "source": [
    "from scipy.ndimage.filters import gaussian_filter as gfilt\n",
    "\n",
    "dl = LL[0,10:,1] - LL[0,:-10,1]\n",
    "\n",
    "mdl = [np.mean(dl[k:k+1000]) for k in range(0,10000,1000)]\n",
    "\n",
    "print(mdl)\n",
    "    "
   ]
  },
  {
   "cell_type": "code",
   "execution_count": null,
   "metadata": {},
   "outputs": [],
   "source": []
  }
 ],
 "metadata": {
  "kernelspec": {
   "display_name": "Python 3",
   "language": "python",
   "name": "python3"
  },
  "language_info": {
   "codemirror_mode": {
    "name": "ipython",
    "version": 3
   },
   "file_extension": ".py",
   "mimetype": "text/x-python",
   "name": "python",
   "nbconvert_exporter": "python",
   "pygments_lexer": "ipython3",
   "version": "3.5.4"
  }
 },
 "nbformat": 4,
 "nbformat_minor": 2
}
